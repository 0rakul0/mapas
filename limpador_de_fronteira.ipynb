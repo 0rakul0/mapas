{
 "cells": [
  {
   "cell_type": "code",
   "execution_count": 1,
   "metadata": {
    "collapsed": true,
    "pycharm": {
     "is_executing": true
    },
    "ExecuteTime": {
     "end_time": "2023-10-05T22:30:21.961238300Z",
     "start_time": "2023-10-05T22:30:21.538704800Z"
    }
   },
   "outputs": [],
   "source": [
    "import pandas as pd"
   ]
  },
  {
   "cell_type": "code",
   "execution_count": 20,
   "outputs": [],
   "source": [
    "def limpa_base(municipio_destino):\n",
    "    base = pd.read_csv('data_master/vizinhos_municipios_fronteira.csv')\n",
    "    print('antes: ', base.shape)\n",
    "    # Defina as condições para a remoção das linhas\n",
    "    condicao_municipio = (base['municipio_1'] == municipio_destino ) | (base['municipio_2'] == municipio_destino)\n",
    "    base_sem_valores_especificos = base[~condicao_municipio]\n",
    "    \n",
    "    base_sem_valores_especificos.to_csv('data_master/vizinhos_municipios_fronteira.csv', index=False)\n",
    "    print('depois: ',base_sem_valores_especificos.shape)\n",
    "    print('----------------------')"
   ],
   "metadata": {
    "collapsed": false,
    "ExecuteTime": {
     "end_time": "2023-10-05T22:51:29.947917100Z",
     "start_time": "2023-10-05T22:51:29.934710100Z"
    }
   }
  },
  {
   "cell_type": "code",
   "execution_count": 46,
   "outputs": [
    {
     "name": "stdout",
     "output_type": "stream",
     "text": [
      "antes:  (1259, 6)\n",
      "depois:  (1257, 6)\n",
      "----------------------\n",
      "antes:  (1257, 6)\n",
      "depois:  (1251, 6)\n",
      "----------------------\n"
     ]
    }
   ],
   "source": [
    "uf_destino = 'PR'\n",
    "municipio_destino = [\"Bela Vista da Caroba\",\"Ampére\"]\n",
    "for mun in municipio_destino:\n",
    "    try:\n",
    "        limpa_base(mun)\n",
    "    except Exception as e:\n",
    "        print(e)\n",
    "        "
   ],
   "metadata": {
    "collapsed": false,
    "ExecuteTime": {
     "end_time": "2023-10-06T15:50:59.213817400Z",
     "start_time": "2023-10-06T15:50:59.163349600Z"
    }
   }
  }
 ],
 "metadata": {
  "kernelspec": {
   "display_name": "Python 3",
   "language": "python",
   "name": "python3"
  },
  "language_info": {
   "codemirror_mode": {
    "name": "ipython",
    "version": 2
   },
   "file_extension": ".py",
   "mimetype": "text/x-python",
   "name": "python",
   "nbconvert_exporter": "python",
   "pygments_lexer": "ipython2",
   "version": "2.7.6"
  }
 },
 "nbformat": 4,
 "nbformat_minor": 0
}
