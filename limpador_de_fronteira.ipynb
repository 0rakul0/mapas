{
 "cells": [
  {
   "cell_type": "code",
   "execution_count": 1,
   "metadata": {
    "collapsed": true,
    "pycharm": {
     "is_executing": true
    },
    "ExecuteTime": {
     "end_time": "2023-10-05T22:30:21.961238300Z",
     "start_time": "2023-10-05T22:30:21.538704800Z"
    }
   },
   "outputs": [],
   "source": [
    "import pandas as pd"
   ]
  },
  {
   "cell_type": "code",
   "execution_count": 67,
   "outputs": [],
   "source": [
    "def limpa_base(uf, municipio_destino):\n",
    "    base = pd.read_csv('data_master/vizinhos_municipios_fronteira.csv')\n",
    "    print('antes: ', base.shape, municipio_destino)\n",
    "    # Defina as condições para a remoção das linhas\n",
    "    condicao_uf = (base['uf_mun1'] == uf)\n",
    "    condicao_municipio = (base['municipio_1'] == municipio_destino ) | (base['municipio_2'] == municipio_destino)\n",
    "    \n",
    "    condicao_final = condicao_uf & condicao_municipio\n",
    "    base_sem_valores_especificos = base[~condicao_final]\n",
    "    \n",
    "    base_sem_valores_especificos.to_csv('data_master/vizinhos_municipios_fronteira.csv', index=False)\n",
    "    print('depois: ',base_sem_valores_especificos.shape)\n",
    "    print('----------------------')"
   ],
   "metadata": {
    "collapsed": false,
    "ExecuteTime": {
     "end_time": "2023-10-06T17:34:12.742523900Z",
     "start_time": "2023-10-06T17:34:12.727497500Z"
    }
   }
  },
  {
   "cell_type": "code",
   "execution_count": 124,
   "outputs": [
    {
     "name": "stdout",
     "output_type": "stream",
     "text": [
      "antes:  (493, 6) Horizontina\n",
      "depois:  (489, 6)\n",
      "----------------------\n"
     ]
    }
   ],
   "source": [
    "uf_destino = 'RS'\n",
    "municipio_destino = [\"Horizontina\"]\n",
    "for mun in municipio_destino:\n",
    "    try:\n",
    "        limpa_base(uf_destino, mun)\n",
    "    except Exception as e:        print(e)\n",
    "        "
   ],
   "metadata": {
    "collapsed": false,
    "ExecuteTime": {
     "end_time": "2023-10-06T19:30:00.100804Z",
     "start_time": "2023-10-06T19:30:00.073796400Z"
    }
   }
  }
 ],
 "metadata": {
  "kernelspec": {
   "display_name": "Python 3",
   "language": "python",
   "name": "python3"
  },
  "language_info": {
   "codemirror_mode": {
    "name": "ipython",
    "version": 2
   },
   "file_extension": ".py",
   "mimetype": "text/x-python",
   "name": "python",
   "nbconvert_exporter": "python",
   "pygments_lexer": "ipython2",
   "version": "2.7.6"
  }
 },
 "nbformat": 4,
 "nbformat_minor": 0
}
